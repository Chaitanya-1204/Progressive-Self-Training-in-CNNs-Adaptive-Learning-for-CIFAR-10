{
  "cells": [
    {
      "cell_type": "markdown",
      "metadata": {
        "vscode": {
          "languageId": "plaintext"
        },
        "id": "nh6jkfg6WuOZ"
      },
      "source": [
        "# Importing Libraries"
      ]
    },
    {
      "cell_type": "code",
      "execution_count": null,
      "metadata": {
        "id": "TBp6hijdWuOa"
      },
      "outputs": [],
      "source": [
        "import pandas\n",
        "import torch\n",
        "import torch.nn as nn\n",
        "from torchvision.datasets import CIFAR10\n",
        "import torchvision.transforms as transforms\n",
        "from tqdm import tqdm\n",
        "import matplotlib.pyplot as plt"
      ]
    },
    {
      "cell_type": "markdown",
      "metadata": {
        "id": "dpKQdtfyWuOa"
      },
      "source": [
        "# Loading The dataset"
      ]
    },
    {
      "cell_type": "code",
      "execution_count": null,
      "metadata": {
        "id": "B8GHQZKyWuOb"
      },
      "outputs": [],
      "source": [
        "transform_train = transforms.Compose([\n",
        "    transforms.RandomHorizontalFlip(),\n",
        "    transforms.RandomCrop(32, padding=4),\n",
        "    transforms.ToTensor() ,\n",
        "\n",
        "    transforms.Normalize((0.5  , 0.5 , 0.5) , (0.5  , 0.5 , 0.5)) # Helps to normalize the data and make it zero centered\n",
        "\n",
        "])\n",
        "transform_test = transforms.Compose([\n",
        "    transforms.ToTensor() ,\n",
        "\n",
        "    transforms.Normalize((0.5  , 0.5 , 0.5) , (0.5  , 0.5 , 0.5))\n",
        "])"
      ]
    },
    {
      "cell_type": "code",
      "execution_count": null,
      "metadata": {
        "colab": {
          "base_uri": "https://localhost:8080/"
        },
        "id": "mirqEgLwWuOb",
        "outputId": "f5c65f5b-4c57-41ab-e19e-cd205ff2a1ee"
      },
      "outputs": [
        {
          "output_type": "stream",
          "name": "stdout",
          "text": [
            "Files already downloaded and verified\n",
            "Files already downloaded and verified\n"
          ]
        }
      ],
      "source": [
        "full_train = CIFAR10(root=\"./data\" , train=True , download=True , transform = transform_train)\n",
        "test = CIFAR10(root=\"./data\" , train=False , download=True , transform = transform_test)"
      ]
    },
    {
      "cell_type": "code",
      "execution_count": null,
      "metadata": {
        "colab": {
          "base_uri": "https://localhost:8080/"
        },
        "id": "T5o8tm8JWuOc",
        "outputId": "1aa654e7-6162-49f5-f47e-549d3261f139"
      },
      "outputs": [
        {
          "output_type": "stream",
          "name": "stdout",
          "text": [
            "Training set size: 50000\n",
            "Test set size: 10000\n"
          ]
        }
      ],
      "source": [
        "print(f\"Training set size: {len(full_train)}\")\n",
        "print(f\"Test set size: {len(test)}\")"
      ]
    },
    {
      "cell_type": "code",
      "source": [
        "# Splitting test into test and validation\n",
        "test_size = len(test) // 2\n",
        "val_size  = len(test) - test_size\n",
        "\n",
        "\n",
        "test_set , val_set = torch.utils.data.random_split(test , [test_size , val_size])\n"
      ],
      "metadata": {
        "id": "A5mfSpakXG3h"
      },
      "execution_count": null,
      "outputs": []
    },
    {
      "cell_type": "code",
      "source": [
        "print(f\"Test Set Size : {len(test_set)}\")\n",
        "print(f\"Validation Set Size : {len(val_set)}\")"
      ],
      "metadata": {
        "colab": {
          "base_uri": "https://localhost:8080/"
        },
        "id": "EeOQKJqXXYQW",
        "outputId": "47a3e940-d329-46ba-95f8-089a362cea2f"
      },
      "execution_count": null,
      "outputs": [
        {
          "output_type": "stream",
          "name": "stdout",
          "text": [
            "Test Set Size : 5000\n",
            "Validation Set Size : 5000\n"
          ]
        }
      ]
    },
    {
      "cell_type": "code",
      "source": [
        "train_loader = torch.utils.data.DataLoader(full_train , batch_size = 32 , shuffle = True )\n",
        "val_loader = torch.utils.data.DataLoader(val_set, batch_size= 32, shuffle=False)\n",
        "test_loader = torch.utils.data.DataLoader(test_set, batch_size= 32, shuffle=False)\n"
      ],
      "metadata": {
        "id": "zA4t9ga-cdPo"
      },
      "execution_count": null,
      "outputs": []
    },
    {
      "cell_type": "markdown",
      "source": [
        "# Building Model"
      ],
      "metadata": {
        "id": "LxlA6RFVaCXD"
      }
    },
    {
      "cell_type": "code",
      "source": [
        "device = torch.device(\"cuda\" if torch.cuda.is_available() else \"cpu\")"
      ],
      "metadata": {
        "id": "SkfnLTQ4dMt8"
      },
      "execution_count": null,
      "outputs": []
    },
    {
      "cell_type": "code",
      "source": [
        "\n",
        "class CNN(nn.Module):\n",
        "\n",
        "  def __init__(self):\n",
        "    super(CNN , self).__init__()\n",
        "\n",
        "    self.conv = nn.Sequential(\n",
        "      nn.Conv2d(in_channels = 3 , out_channels= 32 , kernel_size= 3 , padding = 1),\n",
        "      nn.ReLU(),\n",
        "      nn.BatchNorm2d(32),\n",
        "      nn.MaxPool2d(2 , 2),\n",
        "\n",
        "      nn.Conv2d(in_channels = 32 , out_channels= 64 , kernel_size= 3 , padding = 1),\n",
        "      nn.ReLU(),\n",
        "      nn.BatchNorm2d(64),\n",
        "      nn.MaxPool2d(2 , 2),\n",
        "\n",
        "      nn.Conv2d(in_channels = 64 , out_channels= 128 , kernel_size= 3  , padding = 1),\n",
        "      nn.ReLU(),\n",
        "      nn.BatchNorm2d(128),\n",
        "      nn.MaxPool2d(2 , 2),\n",
        "\n",
        "\n",
        "\n",
        "    )\n",
        "\n",
        "\n",
        "    self.fc_layer = nn.Sequential(\n",
        "        nn.Flatten(),\n",
        "        nn.Linear(128 * 4 * 4  , 512),\n",
        "        nn.ReLU(),\n",
        "        nn.Dropout(0.4),\n",
        "        nn.Linear(512 , 128),\n",
        "        nn.ReLU(),\n",
        "        nn.Dropout(0.4),\n",
        "        nn.Linear(128 , 10)\n",
        "\n",
        "    )\n",
        "\n",
        "  def forward(self , X):\n",
        "    X = self.conv(X)\n",
        "    #print(X.shape)\n",
        "    X = self.fc_layer(X)\n",
        "    return X\n",
        "\n",
        "\n",
        "  def evaluate(self , model , val_loader , criterion):\n",
        "    model.eval()\n",
        "\n",
        "    correct , total = 0 , 0\n",
        "    total_loss = 0.0\n",
        "\n",
        "    with torch.no_grad():\n",
        "      for images , label in val_loader:\n",
        "        images , label = images.to(device) , label.to(device)\n",
        "\n",
        "        outputs = model(images)\n",
        "\n",
        "        loss = criterion(outputs , label)\n",
        "        total_loss += loss.item()\n",
        "\n",
        "        _ , predicted = outputs.max(1)\n",
        "\n",
        "        total += label.size(0)\n",
        "        correct += predicted.eq(label).sum().item()\n",
        "\n",
        "    loss = total_loss / total\n",
        "    val_acc = (correct / total) * 100\n",
        "\n",
        "    return loss , val_acc\n",
        "\n",
        "\n",
        "\n",
        "\n",
        "\n",
        "  def train_model(self, train_loader , model , val_loader , criterion , optimizer , epochs):\n",
        "    self.train_loss_list = []\n",
        "    self.train_acc_list = []\n",
        "\n",
        "    self.val_loss_list = []\n",
        "    self.val_acc_list = []\n",
        "\n",
        "    model.train()\n",
        "    for epoch in range(epochs) :\n",
        "\n",
        "      print(\"##\"  * 40)\n",
        "      print(f\"Starting Epoch : {epoch+1}/{epochs}\")\n",
        "      running_loss = 0.0\n",
        "      correct , total = 0 , 0\n",
        "\n",
        "      for images , labels in tqdm(train_loader , desc = \"batch\"):\n",
        "\n",
        "        images , labels = images.to(device) ,labels.to(device)\n",
        "\n",
        "        optimizer.zero_grad()\n",
        "        outputs = model(images)\n",
        "        loss = criterion(outputs , labels)\n",
        "        loss.backward()\n",
        "        optimizer.step()\n",
        "\n",
        "        running_loss += loss.item()\n",
        "        _ , predicted = outputs.max(1)\n",
        "\n",
        "        total += labels.size(0)\n",
        "        correct += predicted.eq(labels).sum().item()\n",
        "\n",
        "      train_acc = (correct / total) * 100\n",
        "      train_loss = running_loss / total\n",
        "\n",
        "      self.train_loss_list.append(train_loss)\n",
        "      self.train_acc_list.append(train_acc)\n",
        "\n",
        "      val_loss , val_acc = self.evaluate(model , val_loader , criterion)\n",
        "\n",
        "      self.val_loss_list.append(val_loss)\n",
        "      self.val_acc_list.append(val_acc)\n",
        "\n",
        "      print(f\"Epoch {epoch + 1}/{epochs}\\nTrain Accuracy : {train_acc}\\nTrain Loss : {train_loss}\\nValidation Accuracy : {val_acc}\\nValidation Loss : {val_loss}\" )\n",
        "      print(\"\\n\\n\")\n",
        "\n",
        "  def plot(self):\n",
        "    epochs = range(1, len(self.train_loss_list) + 1)\n",
        "\n",
        "    # Create a figure with 2 subplots (1 row, 2 columns)\n",
        "    fig, axes = plt.subplots(1, 2, figsize=(12, 5))\n",
        "\n",
        "    # Plot Loss\n",
        "    axes[0].plot(epochs, self.train_loss_list, 'bo-', label='Training Loss')\n",
        "    axes[0].plot(epochs, self.val_loss_list, 'r*-', label='Validation Loss')\n",
        "    axes[0].set_title('Loss over Epochs')\n",
        "    axes[0].set_xlabel('Epochs')\n",
        "    axes[0].set_ylabel('Loss')\n",
        "    axes[0].legend()\n",
        "    axes[0].grid()\n",
        "\n",
        "    # Plot Accuracy\n",
        "    axes[1].plot(epochs, self.train_acc_list, 'bo-', label='Training Accuracy')\n",
        "    axes[1].plot(epochs, self.val_acc_list, 'r*-', label='Validation Accuracy')\n",
        "    axes[1].set_title('Accuracy over Epochs')\n",
        "    axes[1].set_xlabel('Epochs')\n",
        "    axes[1].set_ylabel('Accuracy (%)')\n",
        "    axes[1].legend()\n",
        "    axes[1].grid()\n",
        "    plt.savefig(\"test_loss.png\")\n",
        "    # Display the plots\n",
        "    plt.tight_layout()\n",
        "    plt.show()\n",
        "\n",
        "\n",
        "\n",
        "\n",
        "\n",
        "\n",
        "\n",
        "\n",
        "\n",
        "\n",
        "\n",
        "\n",
        "\n",
        "\n"
      ],
      "metadata": {
        "id": "rL0KSAKvaAyS"
      },
      "execution_count": null,
      "outputs": []
    },
    {
      "cell_type": "markdown",
      "source": [
        "# Training model"
      ],
      "metadata": {
        "id": "KetjeM2lfwRx"
      }
    },
    {
      "cell_type": "code",
      "source": [
        "model = CNN()\n",
        "model = model.to(device)"
      ],
      "metadata": {
        "id": "-H_B_ipTbxpQ"
      },
      "execution_count": null,
      "outputs": []
    },
    {
      "cell_type": "code",
      "source": [
        "criterion = nn.CrossEntropyLoss()\n",
        "optimizer = torch.optim.Adam(model.parameters() , lr = 0.001 , weight_decay=1e-4)"
      ],
      "metadata": {
        "id": "OkzGhw3OgRRg"
      },
      "execution_count": null,
      "outputs": []
    },
    {
      "cell_type": "code",
      "source": [
        "model.train_model(train_loader=train_loader ,model =  model  , val_loader=val_loader , criterion=criterion , optimizer=optimizer , epochs = 15 )"
      ],
      "metadata": {
        "colab": {
          "base_uri": "https://localhost:8080/"
        },
        "id": "zv7l62Zkf2i9",
        "outputId": "86151af5-f3f7-462d-d9bc-22b2d4ea2468"
      },
      "execution_count": 104,
      "outputs": [
        {
          "output_type": "stream",
          "name": "stdout",
          "text": [
            "################################################################################\n",
            "Starting Epoch : 1/15\n"
          ]
        },
        {
          "output_type": "stream",
          "name": "stderr",
          "text": [
            "batch: 100%|██████████| 1563/1563 [00:29<00:00, 53.58it/s]\n"
          ]
        },
        {
          "output_type": "stream",
          "name": "stdout",
          "text": [
            "Epoch 1/15\n",
            "Train Accuracy : 65.212\n",
            "Train Loss : 0.032043383836746216\n",
            "Validation Accuracy : 71.88\n",
            "Validation Loss : 0.02585029383301735\n",
            "\n",
            "\n",
            "\n",
            "################################################################################\n",
            "Starting Epoch : 2/15\n"
          ]
        },
        {
          "output_type": "stream",
          "name": "stderr",
          "text": [
            "batch: 100%|██████████| 1563/1563 [00:24<00:00, 64.18it/s]\n"
          ]
        },
        {
          "output_type": "stream",
          "name": "stdout",
          "text": [
            "Epoch 2/15\n",
            "Train Accuracy : 72.158\n",
            "Train Loss : 0.024972493735551833\n",
            "Validation Accuracy : 75.44\n",
            "Validation Loss : 0.02244915598630905\n",
            "\n",
            "\n",
            "\n",
            "################################################################################\n",
            "Starting Epoch : 3/15\n"
          ]
        },
        {
          "output_type": "stream",
          "name": "stderr",
          "text": [
            "batch: 100%|██████████| 1563/1563 [00:24<00:00, 62.88it/s]\n"
          ]
        },
        {
          "output_type": "stream",
          "name": "stdout",
          "text": [
            "Epoch 3/15\n",
            "Train Accuracy : 74.36399999999999\n",
            "Train Loss : 0.023074874596595765\n",
            "Validation Accuracy : 73.78\n",
            "Validation Loss : 0.024089424458146096\n",
            "\n",
            "\n",
            "\n",
            "################################################################################\n",
            "Starting Epoch : 4/15\n"
          ]
        },
        {
          "output_type": "stream",
          "name": "stderr",
          "text": [
            "batch: 100%|██████████| 1563/1563 [00:24<00:00, 63.07it/s]\n"
          ]
        },
        {
          "output_type": "stream",
          "name": "stdout",
          "text": [
            "Epoch 4/15\n",
            "Train Accuracy : 76.094\n",
            "Train Loss : 0.02157514723688364\n",
            "Validation Accuracy : 77.72\n",
            "Validation Loss : 0.02040726734995842\n",
            "\n",
            "\n",
            "\n",
            "################################################################################\n",
            "Starting Epoch : 5/15\n"
          ]
        },
        {
          "output_type": "stream",
          "name": "stderr",
          "text": [
            "batch: 100%|██████████| 1563/1563 [00:24<00:00, 63.36it/s]\n"
          ]
        },
        {
          "output_type": "stream",
          "name": "stdout",
          "text": [
            "Epoch 5/15\n",
            "Train Accuracy : 77.448\n",
            "Train Loss : 0.020275936557948588\n",
            "Validation Accuracy : 77.53999999999999\n",
            "Validation Loss : 0.020510603898763656\n",
            "\n",
            "\n",
            "\n",
            "################################################################################\n",
            "Starting Epoch : 6/15\n"
          ]
        },
        {
          "output_type": "stream",
          "name": "stderr",
          "text": [
            "batch: 100%|██████████| 1563/1563 [00:24<00:00, 62.98it/s]\n"
          ]
        },
        {
          "output_type": "stream",
          "name": "stdout",
          "text": [
            "Epoch 6/15\n",
            "Train Accuracy : 78.306\n",
            "Train Loss : 0.019638142218589782\n",
            "Validation Accuracy : 78.18\n",
            "Validation Loss : 0.020512705016136168\n",
            "\n",
            "\n",
            "\n",
            "################################################################################\n",
            "Starting Epoch : 7/15\n"
          ]
        },
        {
          "output_type": "stream",
          "name": "stderr",
          "text": [
            "batch: 100%|██████████| 1563/1563 [00:24<00:00, 63.33it/s]\n"
          ]
        },
        {
          "output_type": "stream",
          "name": "stdout",
          "text": [
            "Epoch 7/15\n",
            "Train Accuracy : 78.84\n",
            "Train Loss : 0.019029468840658665\n",
            "Validation Accuracy : 78.66\n",
            "Validation Loss : 0.019556792244315148\n",
            "\n",
            "\n",
            "\n",
            "################################################################################\n",
            "Starting Epoch : 8/15\n"
          ]
        },
        {
          "output_type": "stream",
          "name": "stderr",
          "text": [
            "batch: 100%|██████████| 1563/1563 [00:24<00:00, 63.46it/s]\n"
          ]
        },
        {
          "output_type": "stream",
          "name": "stdout",
          "text": [
            "Epoch 8/15\n",
            "Train Accuracy : 79.758\n",
            "Train Loss : 0.018298888785392046\n",
            "Validation Accuracy : 78.62\n",
            "Validation Loss : 0.019773545229434968\n",
            "\n",
            "\n",
            "\n",
            "################################################################################\n",
            "Starting Epoch : 9/15\n"
          ]
        },
        {
          "output_type": "stream",
          "name": "stderr",
          "text": [
            "batch: 100%|██████████| 1563/1563 [00:24<00:00, 63.18it/s]\n"
          ]
        },
        {
          "output_type": "stream",
          "name": "stdout",
          "text": [
            "Epoch 9/15\n",
            "Train Accuracy : 80.34599999999999\n",
            "Train Loss : 0.017746998037695885\n",
            "Validation Accuracy : 79.38\n",
            "Validation Loss : 0.019542762181162833\n",
            "\n",
            "\n",
            "\n",
            "################################################################################\n",
            "Starting Epoch : 10/15\n"
          ]
        },
        {
          "output_type": "stream",
          "name": "stderr",
          "text": [
            "batch: 100%|██████████| 1563/1563 [00:24<00:00, 63.56it/s]\n"
          ]
        },
        {
          "output_type": "stream",
          "name": "stdout",
          "text": [
            "Epoch 10/15\n",
            "Train Accuracy : 81.128\n",
            "Train Loss : 0.01704611843585968\n",
            "Validation Accuracy : 78.4\n",
            "Validation Loss : 0.02015093818306923\n",
            "\n",
            "\n",
            "\n",
            "################################################################################\n",
            "Starting Epoch : 11/15\n"
          ]
        },
        {
          "output_type": "stream",
          "name": "stderr",
          "text": [
            "batch: 100%|██████████| 1563/1563 [00:24<00:00, 63.05it/s]\n"
          ]
        },
        {
          "output_type": "stream",
          "name": "stdout",
          "text": [
            "Epoch 11/15\n",
            "Train Accuracy : 81.744\n",
            "Train Loss : 0.016604186299145222\n",
            "Validation Accuracy : 80.30000000000001\n",
            "Validation Loss : 0.018689490470290185\n",
            "\n",
            "\n",
            "\n",
            "################################################################################\n",
            "Starting Epoch : 12/15\n"
          ]
        },
        {
          "output_type": "stream",
          "name": "stderr",
          "text": [
            "batch: 100%|██████████| 1563/1563 [00:24<00:00, 63.37it/s]\n"
          ]
        },
        {
          "output_type": "stream",
          "name": "stdout",
          "text": [
            "Epoch 12/15\n",
            "Train Accuracy : 81.874\n",
            "Train Loss : 0.016406080333590506\n",
            "Validation Accuracy : 81.10000000000001\n",
            "Validation Loss : 0.017895257188379764\n",
            "\n",
            "\n",
            "\n",
            "################################################################################\n",
            "Starting Epoch : 13/15\n"
          ]
        },
        {
          "output_type": "stream",
          "name": "stderr",
          "text": [
            "batch: 100%|██████████| 1563/1563 [00:24<00:00, 63.27it/s]\n"
          ]
        },
        {
          "output_type": "stream",
          "name": "stdout",
          "text": [
            "Epoch 13/15\n",
            "Train Accuracy : 82.48\n",
            "Train Loss : 0.01592827930599451\n",
            "Validation Accuracy : 80.4\n",
            "Validation Loss : 0.017904748713970183\n",
            "\n",
            "\n",
            "\n",
            "################################################################################\n",
            "Starting Epoch : 14/15\n"
          ]
        },
        {
          "output_type": "stream",
          "name": "stderr",
          "text": [
            "batch: 100%|██████████| 1563/1563 [00:24<00:00, 63.34it/s]\n"
          ]
        },
        {
          "output_type": "stream",
          "name": "stdout",
          "text": [
            "Epoch 14/15\n",
            "Train Accuracy : 83.03399999999999\n",
            "Train Loss : 0.015515397671461106\n",
            "Validation Accuracy : 80.74\n",
            "Validation Loss : 0.01778881981819868\n",
            "\n",
            "\n",
            "\n",
            "################################################################################\n",
            "Starting Epoch : 15/15\n"
          ]
        },
        {
          "output_type": "stream",
          "name": "stderr",
          "text": [
            "batch: 100%|██████████| 1563/1563 [00:24<00:00, 62.75it/s]\n"
          ]
        },
        {
          "output_type": "stream",
          "name": "stdout",
          "text": [
            "Epoch 15/15\n",
            "Train Accuracy : 82.918\n",
            "Train Loss : 0.01526383649095893\n",
            "Validation Accuracy : 81.86\n",
            "Validation Loss : 0.017372085189819336\n",
            "\n",
            "\n",
            "\n"
          ]
        }
      ]
    },
    {
      "cell_type": "code",
      "source": [
        "model.plot()"
      ],
      "metadata": {
        "colab": {
          "base_uri": "https://localhost:8080/",
          "height": 448
        },
        "id": "a5nBWuxZoNf9",
        "outputId": "50baf93f-8a5f-4ff1-8043-ad8db579b706"
      },
      "execution_count": 105,
      "outputs": [
        {
          "output_type": "display_data",
          "data": {
            "text/plain": [
              "<Figure size 1200x500 with 2 Axes>"
            ],
            "image/png": "[encoded data removed]"
          },
          "metadata": {}
        }
      ]
    },
    {
      "cell_type": "code",
      "source": [
        "print(f\"Test accuracy is : {model.evaluate(model , test_loader , criterion)[1]}\")"
      ],
      "metadata": {
        "id": "XC2IErPAgicw",
        "colab": {
          "base_uri": "https://localhost:8080/"
        },
        "outputId": "6ccb7554-bbcf-48fc-c4f5-f4204b9e7ef4"
      },
      "execution_count": 106,
      "outputs": [
        {
          "output_type": "stream",
          "name": "stdout",
          "text": [
            "Test accuracy is : 82.39999999999999\n"
          ]
        }
      ]
    },
    {
      "cell_type": "code",
      "source": [],
      "metadata": {
        "id": "gUfpwxVVk6NL"
      },
      "execution_count": null,
      "outputs": []
    }
  ],
  "metadata": {
    "kernelspec": {
      "display_name": "Python 3",
      "name": "python3"
    },
    "language_info": {
      "codemirror_mode": {
        "name": "ipython",
        "version": 3
      },
      "file_extension": ".py",
      "mimetype": "text/x-python",
      "name": "python",
      "nbconvert_exporter": "python",
      "pygments_lexer": "ipython3",
      "version": "3.9.18"
    },
    "colab": {
      "provenance": [],
      "gpuType": "T4"
    },
    "accelerator": "GPU"
  },
  "nbformat": 4,
  "nbformat_minor": 0
}