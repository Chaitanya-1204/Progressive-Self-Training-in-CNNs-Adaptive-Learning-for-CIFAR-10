{
  "cells": [
    {
      "cell_type": "markdown",
      "metadata": {
        "vscode": {
          "languageId": "plaintext"
        },
        "id": "nh6jkfg6WuOZ"
      },
      "source": [
        "# Importing Libraries"
      ]
    },
    {
      "cell_type": "code",
      "execution_count": 84,
      "metadata": {
        "id": "TBp6hijdWuOa"
      },
      "outputs": [],
      "source": [
        "import pandas\n",
        "import torch\n",
        "import torch.nn as nn\n",
        "from torchvision.datasets import CIFAR10\n",
        "import torchvision.transforms as transforms\n",
        "from tqdm import tqdm\n",
        "import matplotlib.pyplot as plt"
      ]
    },
    {
      "cell_type": "markdown",
      "metadata": {
        "id": "dpKQdtfyWuOa"
      },
      "source": [
        "# Loading The dataset"
      ]
    },
    {
      "cell_type": "code",
      "execution_count": 51,
      "metadata": {
        "id": "B8GHQZKyWuOb"
      },
      "outputs": [],
      "source": [
        "transform_train = transforms.Compose([\n",
        "    transforms.RandomHorizontalFlip(),\n",
        "    transforms.RandomCrop(32, padding=4),\n",
        "    transforms.ToTensor() ,\n",
        "\n",
        "    transforms.Normalize((0.5  , 0.5 , 0.5) , (0.5  , 0.5 , 0.5)) # Helps to normalize the data and make it zero centered\n",
        "\n",
        "])\n",
        "transform_test = transforms.Compose([\n",
        "    transforms.ToTensor() ,\n",
        "\n",
        "    transforms.Normalize((0.5  , 0.5 , 0.5) , (0.5  , 0.5 , 0.5))\n",
        "])"
      ]
    },
    {
      "cell_type": "code",
      "execution_count": 52,
      "metadata": {
        "colab": {
          "base_uri": "https://localhost:8080/"
        },
        "id": "mirqEgLwWuOb",
        "outputId": "f5c65f5b-4c57-41ab-e19e-cd205ff2a1ee"
      },
      "outputs": [
        {
          "output_type": "stream",
          "name": "stdout",
          "text": [
            "Files already downloaded and verified\n",
            "Files already downloaded and verified\n"
          ]
        }
      ],
      "source": [
        "full_train = CIFAR10(root=\"./data\" , train=True , download=True , transform = transform_train)\n",
        "test = CIFAR10(root=\"./data\" , train=False , download=True , transform = transform_test)"
      ]
    },
    {
      "cell_type": "code",
      "execution_count": 53,
      "metadata": {
        "colab": {
          "base_uri": "https://localhost:8080/"
        },
        "id": "T5o8tm8JWuOc",
        "outputId": "1aa654e7-6162-49f5-f47e-549d3261f139"
      },
      "outputs": [
        {
          "output_type": "stream",
          "name": "stdout",
          "text": [
            "Training set size: 50000\n",
            "Test set size: 10000\n"
          ]
        }
      ],
      "source": [
        "print(f\"Training set size: {len(full_train)}\")\n",
        "print(f\"Test set size: {len(test)}\")"
      ]
    },
    {
      "cell_type": "code",
      "source": [
        "# Splitting test into test and validation\n",
        "test_size = len(test) // 2\n",
        "val_size  = len(test) - test_size\n",
        "\n",
        "\n",
        "test_set , val_set = torch.utils.data.random_split(test , [test_size , val_size])\n"
      ],
      "metadata": {
        "id": "A5mfSpakXG3h"
      },
      "execution_count": 54,
      "outputs": []
    },
    {
      "cell_type": "code",
      "source": [
        "print(f\"Test Set Size : {len(test_set)}\")\n",
        "print(f\"Validation Set Size : {len(val_set)}\")"
      ],
      "metadata": {
        "colab": {
          "base_uri": "https://localhost:8080/"
        },
        "id": "EeOQKJqXXYQW",
        "outputId": "47a3e940-d329-46ba-95f8-089a362cea2f"
      },
      "execution_count": 55,
      "outputs": [
        {
          "output_type": "stream",
          "name": "stdout",
          "text": [
            "Test Set Size : 5000\n",
            "Validation Set Size : 5000\n"
          ]
        }
      ]
    },
    {
      "cell_type": "code",
      "source": [
        "train_loader = torch.utils.data.DataLoader(full_train , batch_size = 32 , shuffle = True )\n",
        "val_loader = torch.utils.data.DataLoader(val_set, batch_size= 32, shuffle=False)\n",
        "test_loader = torch.utils.data.DataLoader(test_set, batch_size= 32, shuffle=False)\n"
      ],
      "metadata": {
        "id": "zA4t9ga-cdPo"
      },
      "execution_count": 56,
      "outputs": []
    },
    {
      "cell_type": "markdown",
      "source": [
        "# Building Model"
      ],
      "metadata": {
        "id": "LxlA6RFVaCXD"
      }
    },
    {
      "cell_type": "code",
      "source": [
        "device = torch.device(\"cuda\" if torch.cuda.is_available() else \"cpu\")"
      ],
      "metadata": {
        "id": "SkfnLTQ4dMt8"
      },
      "execution_count": 58,
      "outputs": []
    },
    {
      "cell_type": "code",
      "source": [
        "\n",
        "class CNN(nn.Module):\n",
        "\n",
        "  def __init__(self):\n",
        "    super(CNN , self).__init__()\n",
        "\n",
        "    self.conv = nn.Sequential(\n",
        "      nn.Conv2d(in_channels = 3 , out_channels= 32 , kernel_size= 3 , padding = 1),\n",
        "      nn.ReLU(),\n",
        "      nn.BatchNorm2d(32),\n",
        "      nn.MaxPool2d(2 , 2),\n",
        "\n",
        "      nn.Conv2d(in_channels = 32 , out_channels= 64 , kernel_size= 3 , padding = 1),\n",
        "      nn.ReLU(),\n",
        "      nn.BatchNorm2d(64),\n",
        "      nn.MaxPool2d(2 , 2),\n",
        "\n",
        "      nn.Conv2d(in_channels = 64 , out_channels= 128 , kernel_size= 3  , padding = 1),\n",
        "      nn.ReLU(),\n",
        "      nn.BatchNorm2d(128),\n",
        "      nn.MaxPool2d(2 , 2),\n",
        "\n",
        "\n",
        "\n",
        "    )\n",
        "\n",
        "\n",
        "    self.fc_layer = nn.Sequential(\n",
        "        nn.Flatten(),\n",
        "        nn.Linear(128 * 4 * 4  , 512),\n",
        "        nn.ReLU(),\n",
        "        nn.Dropout(0.4),\n",
        "        nn.Linear(512 , 128),\n",
        "        nn.ReLU(),\n",
        "        nn.Dropout(0.4),\n",
        "        nn.Linear(128 , 10)\n",
        "\n",
        "    )\n",
        "\n",
        "  def forward(self , X):\n",
        "    X = self.conv(X)\n",
        "    #print(X.shape)\n",
        "    X = self.fc_layer(X)\n",
        "    return X\n",
        "\n",
        "\n",
        "  def evaluate(self , model , val_loader , criterion):\n",
        "    model.eval()\n",
        "\n",
        "    correct , total = 0 , 0\n",
        "    total_loss = 0.0\n",
        "\n",
        "    with torch.no_grad():\n",
        "      for images , label in val_loader:\n",
        "        images , label = images.to(device) , label.to(device)\n",
        "\n",
        "        outputs = model(images)\n",
        "\n",
        "        loss = criterion(outputs , label)\n",
        "        total_loss += loss.item()\n",
        "\n",
        "        _ , predicted = outputs.max(1)\n",
        "\n",
        "        total += label.size(0)\n",
        "        correct += predicted.eq(label).sum().item()\n",
        "\n",
        "    loss = total_loss / total\n",
        "    val_acc = (correct / total) * 100\n",
        "\n",
        "    return loss , val_acc\n",
        "\n",
        "\n",
        "\n",
        "\n",
        "\n",
        "  def train_model(self, train_loader , model , val_loader , criterion , optimizer , epochs):\n",
        "    self.train_loss_list = []\n",
        "    self.train_acc_list = []\n",
        "\n",
        "    self.val_loss_list = []\n",
        "    self.val_acc_list = []\n",
        "\n",
        "    model.train()\n",
        "    for epoch in range(epochs) :\n",
        "\n",
        "      print(\"##\"  * 40)\n",
        "      print(f\"Starting Epoch : {epoch+1}/{epochs}\")\n",
        "      running_loss = 0.0\n",
        "      correct , total = 0 , 0\n",
        "\n",
        "      for images , labels in tqdm(train_loader , desc = \"batch\"):\n",
        "\n",
        "        images , labels = images.to(device) ,labels.to(device)\n",
        "\n",
        "        optimizer.zero_grad()\n",
        "        outputs = model(images)\n",
        "        loss = criterion(outputs , labels)\n",
        "        loss.backward()\n",
        "        optimizer.step()\n",
        "\n",
        "        running_loss += loss.item()\n",
        "        _ , predicted = outputs.max(1)\n",
        "\n",
        "        total += labels.size(0)\n",
        "        correct += predicted.eq(labels).sum().item()\n",
        "\n",
        "      train_acc = (correct / total) * 100\n",
        "      train_loss = running_loss / total\n",
        "\n",
        "      self.train_loss_list.append(train_loss)\n",
        "      self.train_acc_list.append(train_acc)\n",
        "\n",
        "      val_loss , val_acc = self.evaluate(model , val_loader , criterion)\n",
        "\n",
        "      self.val_loss_list.append(val_loss)\n",
        "      self.val_acc_list.append(val_acc)\n",
        "\n",
        "      print(f\"Epoch {epoch + 1}/{epochs}\\nTrain Accuracy : {train_acc}\\nTrain Loss : {train_loss}\\nValidation Accuracy : {val_acc}\\nValidation Loss : {val_loss}\" )\n",
        "      print(\"\\n\\n\")\n",
        "\n",
        "  def plot(self):\n",
        "    epochs = range(1, len(self.train_loss_list) + 1)\n",
        "\n",
        "    # Create a figure with 2 subplots (1 row, 2 columns)\n",
        "    fig, axes = plt.subplots(1, 2, figsize=(12, 5))\n",
        "\n",
        "    # Plot Loss\n",
        "    axes[0].plot(epochs, self.train_loss_list, 'bo-', label='Training Loss')\n",
        "    axes[0].plot(epochs, self.val_loss_list, 'r*-', label='Validation Loss')\n",
        "    axes[0].set_title('Loss over Epochs')\n",
        "    axes[0].set_xlabel('Epochs')\n",
        "    axes[0].set_ylabel('Loss')\n",
        "    axes[0].legend()\n",
        "    axes[0].grid()\n",
        "\n",
        "    # Plot Accuracy\n",
        "    axes[1].plot(epochs, self.train_acc_list, 'bo-', label='Training Accuracy')\n",
        "    axes[1].plot(epochs, self.val_acc_list, 'r*-', label='Validation Accuracy')\n",
        "    axes[1].set_title('Accuracy over Epochs')\n",
        "    axes[1].set_xlabel('Epochs')\n",
        "    axes[1].set_ylabel('Accuracy (%)')\n",
        "    axes[1].legend()\n",
        "    axes[1].grid()\n",
        "\n",
        "    # Display the plots\n",
        "    plt.tight_layout()\n",
        "    plt.show()\n",
        "\n",
        "\n",
        "\n",
        "\n",
        "\n",
        "\n",
        "\n",
        "\n",
        "\n",
        "\n",
        "\n",
        "\n"
      ],
      "metadata": {
        "id": "rL0KSAKvaAyS"
      },
      "execution_count": 85,
      "outputs": []
    },
    {
      "cell_type": "markdown",
      "source": [
        "# Training model"
      ],
      "metadata": {
        "id": "KetjeM2lfwRx"
      }
    },
    {
      "cell_type": "code",
      "source": [
        "model = CNN()\n",
        "model = model.to(device)"
      ],
      "metadata": {
        "id": "-H_B_ipTbxpQ"
      },
      "execution_count": 86,
      "outputs": []
    },
    {
      "cell_type": "code",
      "source": [
        "criterion = nn.CrossEntropyLoss()\n",
        "optimizer = torch.optim.Adam(model.parameters() , lr = 0.001 , weight_decay=1e-4)"
      ],
      "metadata": {
        "id": "OkzGhw3OgRRg"
      },
      "execution_count": 87,
      "outputs": []
    },
    {
      "cell_type": "code",
      "source": [
        "model.train_model(train_loader=train_loader ,model =  model  , val_loader=val_loader , criterion=criterion , optimizer=optimizer , epochs = 15 )"
      ],
      "metadata": {
        "colab": {
          "base_uri": "https://localhost:8080/"
        },
        "id": "zv7l62Zkf2i9",
        "outputId": "99996765-2bd9-42eb-b42d-d08ab9b535fb"
      },
      "execution_count": 88,
      "outputs": [
        {
          "output_type": "stream",
          "name": "stdout",
          "text": [
            "################################################################################\n",
            "Starting Epoch : 1/15\n"
          ]
        },
        {
          "output_type": "stream",
          "name": "stderr",
          "text": [
            "batch: 100%|██████████| 1563/1563 [00:28<00:00, 54.91it/s]\n"
          ]
        },
        {
          "output_type": "stream",
          "name": "stdout",
          "text": [
            "Epoch 1/15\n",
            "Train Accuracy : 45.666000000000004\n",
            "Train Loss : 0.04699256437063217\n",
            "Validation Accuracy : 61.22\n",
            "Validation Loss : 0.033811197018623354\n",
            "\n",
            "\n",
            "\n",
            "################################################################################\n",
            "Starting Epoch : 2/15\n"
          ]
        },
        {
          "output_type": "stream",
          "name": "stderr",
          "text": [
            "batch: 100%|██████████| 1563/1563 [00:25<00:00, 61.06it/s]\n"
          ]
        },
        {
          "output_type": "stream",
          "name": "stdout",
          "text": [
            "Epoch 2/15\n",
            "Train Accuracy : 64.116\n",
            "Train Loss : 0.03171764335334301\n",
            "Validation Accuracy : 68.94\n",
            "Validation Loss : 0.027521120932698248\n",
            "\n",
            "\n",
            "\n",
            "################################################################################\n",
            "Starting Epoch : 3/15\n"
          ]
        },
        {
          "output_type": "stream",
          "name": "stderr",
          "text": [
            "batch: 100%|██████████| 1563/1563 [00:24<00:00, 63.68it/s]\n"
          ]
        },
        {
          "output_type": "stream",
          "name": "stdout",
          "text": [
            "Epoch 3/15\n",
            "Train Accuracy : 69.892\n",
            "Train Loss : 0.026980142685770987\n",
            "Validation Accuracy : 73.42\n",
            "Validation Loss : 0.02411054756641388\n",
            "\n",
            "\n",
            "\n",
            "################################################################################\n",
            "Starting Epoch : 4/15\n"
          ]
        },
        {
          "output_type": "stream",
          "name": "stderr",
          "text": [
            "batch: 100%|██████████| 1563/1563 [00:24<00:00, 64.40it/s]\n"
          ]
        },
        {
          "output_type": "stream",
          "name": "stdout",
          "text": [
            "Epoch 4/15\n",
            "Train Accuracy : 72.8\n",
            "Train Loss : 0.02447577931046486\n",
            "Validation Accuracy : 74.96000000000001\n",
            "Validation Loss : 0.0231302342236042\n",
            "\n",
            "\n",
            "\n",
            "################################################################################\n",
            "Starting Epoch : 5/15\n"
          ]
        },
        {
          "output_type": "stream",
          "name": "stderr",
          "text": [
            "batch: 100%|██████████| 1563/1563 [00:25<00:00, 62.29it/s]\n"
          ]
        },
        {
          "output_type": "stream",
          "name": "stdout",
          "text": [
            "Epoch 5/15\n",
            "Train Accuracy : 74.766\n",
            "Train Loss : 0.02275170791476965\n",
            "Validation Accuracy : 76.55999999999999\n",
            "Validation Loss : 0.02145139142870903\n",
            "\n",
            "\n",
            "\n",
            "################################################################################\n",
            "Starting Epoch : 6/15\n"
          ]
        },
        {
          "output_type": "stream",
          "name": "stderr",
          "text": [
            "batch: 100%|██████████| 1563/1563 [00:24<00:00, 63.86it/s]\n"
          ]
        },
        {
          "output_type": "stream",
          "name": "stdout",
          "text": [
            "Epoch 6/15\n",
            "Train Accuracy : 76.492\n",
            "Train Loss : 0.021380855243206025\n",
            "Validation Accuracy : 77.82\n",
            "Validation Loss : 0.02075255270898342\n",
            "\n",
            "\n",
            "\n",
            "################################################################################\n",
            "Starting Epoch : 7/15\n"
          ]
        },
        {
          "output_type": "stream",
          "name": "stderr",
          "text": [
            "batch: 100%|██████████| 1563/1563 [00:24<00:00, 63.17it/s]\n"
          ]
        },
        {
          "output_type": "stream",
          "name": "stdout",
          "text": [
            "Epoch 7/15\n",
            "Train Accuracy : 77.576\n",
            "Train Loss : 0.020284450760781766\n",
            "Validation Accuracy : 78.06\n",
            "Validation Loss : 0.020232609605789185\n",
            "\n",
            "\n",
            "\n",
            "################################################################################\n",
            "Starting Epoch : 8/15\n"
          ]
        },
        {
          "output_type": "stream",
          "name": "stderr",
          "text": [
            "batch: 100%|██████████| 1563/1563 [00:24<00:00, 63.44it/s]\n"
          ]
        },
        {
          "output_type": "stream",
          "name": "stdout",
          "text": [
            "Epoch 8/15\n",
            "Train Accuracy : 78.602\n",
            "Train Loss : 0.019385795611143113\n",
            "Validation Accuracy : 78.53999999999999\n",
            "Validation Loss : 0.02054541481733322\n",
            "\n",
            "\n",
            "\n",
            "################################################################################\n",
            "Starting Epoch : 9/15\n"
          ]
        },
        {
          "output_type": "stream",
          "name": "stderr",
          "text": [
            "batch: 100%|██████████| 1563/1563 [00:24<00:00, 63.89it/s]\n"
          ]
        },
        {
          "output_type": "stream",
          "name": "stdout",
          "text": [
            "Epoch 9/15\n",
            "Train Accuracy : 79.134\n",
            "Train Loss : 0.018664096171557905\n",
            "Validation Accuracy : 79.06\n",
            "Validation Loss : 0.019355606657266617\n",
            "\n",
            "\n",
            "\n",
            "################################################################################\n",
            "Starting Epoch : 10/15\n"
          ]
        },
        {
          "output_type": "stream",
          "name": "stderr",
          "text": [
            "batch: 100%|██████████| 1563/1563 [00:24<00:00, 63.56it/s]\n"
          ]
        },
        {
          "output_type": "stream",
          "name": "stdout",
          "text": [
            "Epoch 10/15\n",
            "Train Accuracy : 80.036\n",
            "Train Loss : 0.018110491867661477\n",
            "Validation Accuracy : 78.64\n",
            "Validation Loss : 0.019392567467689515\n",
            "\n",
            "\n",
            "\n",
            "################################################################################\n",
            "Starting Epoch : 11/15\n"
          ]
        },
        {
          "output_type": "stream",
          "name": "stderr",
          "text": [
            "batch: 100%|██████████| 1563/1563 [00:24<00:00, 64.00it/s]\n"
          ]
        },
        {
          "output_type": "stream",
          "name": "stdout",
          "text": [
            "Epoch 11/15\n",
            "Train Accuracy : 80.682\n",
            "Train Loss : 0.017398253341913222\n",
            "Validation Accuracy : 79.97999999999999\n",
            "Validation Loss : 0.018616660648584367\n",
            "\n",
            "\n",
            "\n",
            "################################################################################\n",
            "Starting Epoch : 12/15\n"
          ]
        },
        {
          "output_type": "stream",
          "name": "stderr",
          "text": [
            "batch: 100%|██████████| 1563/1563 [00:24<00:00, 64.11it/s]\n"
          ]
        },
        {
          "output_type": "stream",
          "name": "stdout",
          "text": [
            "Epoch 12/15\n",
            "Train Accuracy : 81.376\n",
            "Train Loss : 0.016976823618412018\n",
            "Validation Accuracy : 79.60000000000001\n",
            "Validation Loss : 0.018528981932997703\n",
            "\n",
            "\n",
            "\n",
            "################################################################################\n",
            "Starting Epoch : 13/15\n"
          ]
        },
        {
          "output_type": "stream",
          "name": "stderr",
          "text": [
            "batch: 100%|██████████| 1563/1563 [00:24<00:00, 63.84it/s]\n"
          ]
        },
        {
          "output_type": "stream",
          "name": "stdout",
          "text": [
            "Epoch 13/15\n",
            "Train Accuracy : 81.854\n",
            "Train Loss : 0.016441746272295714\n",
            "Validation Accuracy : 80.67999999999999\n",
            "Validation Loss : 0.018041651943325996\n",
            "\n",
            "\n",
            "\n",
            "################################################################################\n",
            "Starting Epoch : 14/15\n"
          ]
        },
        {
          "output_type": "stream",
          "name": "stderr",
          "text": [
            "batch: 100%|██████████| 1563/1563 [00:24<00:00, 63.15it/s]\n"
          ]
        },
        {
          "output_type": "stream",
          "name": "stdout",
          "text": [
            "Epoch 14/15\n",
            "Train Accuracy : 82.328\n",
            "Train Loss : 0.016007811105698346\n",
            "Validation Accuracy : 81.10000000000001\n",
            "Validation Loss : 0.017812407830357552\n",
            "\n",
            "\n",
            "\n",
            "################################################################################\n",
            "Starting Epoch : 15/15\n"
          ]
        },
        {
          "output_type": "stream",
          "name": "stderr",
          "text": [
            "batch: 100%|██████████| 1563/1563 [00:24<00:00, 63.24it/s]\n"
          ]
        },
        {
          "output_type": "stream",
          "name": "stdout",
          "text": [
            "Epoch 15/15\n",
            "Train Accuracy : 82.43\n",
            "Train Loss : 0.015787010029554367\n",
            "Validation Accuracy : 80.86\n",
            "Validation Loss : 0.017346949476003647\n",
            "\n",
            "\n",
            "\n"
          ]
        }
      ]
    },
    {
      "cell_type": "code",
      "source": [
        "model.plot()"
      ],
      "metadata": {
        "colab": {
          "base_uri": "https://localhost:8080/",
          "height": 448
        },
        "id": "a5nBWuxZoNf9",
        "outputId": "9d414aa0-f46a-477e-b636-ece55d9f5744"
      },
      "execution_count": 89,
      "outputs": [
        {
          "output_type": "display_data",
          "data": {
            "text/plain": [
              "<Figure size 1200x500 with 2 Axes>"
            ],
            "image/png": "[encoded data removed]"
          },
          "metadata": {}
        }
      ]
    },
    {
      "cell_type": "code",
      "source": [
        "print(f\"Test accuracy is : {model.evaluate(model , test_loader , criterion)[1]}\")"
      ],
      "metadata": {
        "colab": {
          "base_uri": "https://localhost:8080/"
        },
        "id": "XC2IErPAgicw",
        "outputId": "d1bdd161-c368-4424-8ce7-fdb8288ecd68"
      },
      "execution_count": 90,
      "outputs": [
        {
          "output_type": "stream",
          "name": "stdout",
          "text": [
            "Test accuracy is : 81.46\n"
          ]
        }
      ]
    },
    {
      "cell_type": "code",
      "source": [],
      "metadata": {
        "id": "gUfpwxVVk6NL"
      },
      "execution_count": null,
      "outputs": []
    }
  ],
  "metadata": {
    "kernelspec": {
      "display_name": "Python 3",
      "name": "python3"
    },
    "language_info": {
      "codemirror_mode": {
        "name": "ipython",
        "version": 3
      },
      "file_extension": ".py",
      "mimetype": "text/x-python",
      "name": "python",
      "nbconvert_exporter": "python",
      "pygments_lexer": "ipython3",
      "version": "3.9.18"
    },
    "colab": {
      "provenance": [],
      "gpuType": "T4"
    },
    "accelerator": "GPU"
  },
  "nbformat": 4,
  "nbformat_minor": 0
}